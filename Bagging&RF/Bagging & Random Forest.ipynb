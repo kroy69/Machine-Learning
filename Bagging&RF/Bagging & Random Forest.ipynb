{
 "cells": [
  {
   "cell_type": "code",
   "execution_count": 1,
   "metadata": {
    "ExecuteTime": {
     "end_time": "2020-12-21T07:52:52.044700Z",
     "start_time": "2020-12-21T07:52:49.959652Z"
    }
   },
   "outputs": [],
   "source": [
    "import os\n",
    "import pandas as pd\n",
    "import numpy as np\n",
    "%matplotlib inline"
   ]
  },
  {
   "cell_type": "code",
   "execution_count": 4,
   "metadata": {
    "ExecuteTime": {
     "end_time": "2020-12-21T08:25:51.116143Z",
     "start_time": "2020-12-21T08:25:51.079227Z"
    }
   },
   "outputs": [],
   "source": [
    "hr_data=pd.read_csv('C:\\\\Users\\\\royku\\\\Sem II Modules\\\\All Used Data\\\\hrdata1.csv')"
   ]
  },
  {
   "cell_type": "code",
   "execution_count": 5,
   "metadata": {
    "ExecuteTime": {
     "end_time": "2020-12-21T08:25:55.156129Z",
     "start_time": "2020-12-21T08:25:55.139776Z"
    }
   },
   "outputs": [
    {
     "data": {
      "text/html": [
       "<div>\n",
       "<style scoped>\n",
       "    .dataframe tbody tr th:only-of-type {\n",
       "        vertical-align: middle;\n",
       "    }\n",
       "\n",
       "    .dataframe tbody tr th {\n",
       "        vertical-align: top;\n",
       "    }\n",
       "\n",
       "    .dataframe thead th {\n",
       "        text-align: right;\n",
       "    }\n",
       "</style>\n",
       "<table border=\"1\" class=\"dataframe\">\n",
       "  <thead>\n",
       "    <tr style=\"text-align: right;\">\n",
       "      <th></th>\n",
       "      <th>satisfaction_level</th>\n",
       "      <th>last_evaluation</th>\n",
       "      <th>number_project</th>\n",
       "      <th>average_montly_hours</th>\n",
       "      <th>time_spend_company</th>\n",
       "      <th>Work_accident</th>\n",
       "      <th>left</th>\n",
       "      <th>promotion_last_5years</th>\n",
       "      <th>sales</th>\n",
       "      <th>salary</th>\n",
       "    </tr>\n",
       "  </thead>\n",
       "  <tbody>\n",
       "    <tr>\n",
       "      <th>0</th>\n",
       "      <td>0.38</td>\n",
       "      <td>0.53</td>\n",
       "      <td>2</td>\n",
       "      <td>157</td>\n",
       "      <td>3</td>\n",
       "      <td>0</td>\n",
       "      <td>1</td>\n",
       "      <td>0</td>\n",
       "      <td>sales</td>\n",
       "      <td>low</td>\n",
       "    </tr>\n",
       "    <tr>\n",
       "      <th>1</th>\n",
       "      <td>0.80</td>\n",
       "      <td>0.86</td>\n",
       "      <td>5</td>\n",
       "      <td>262</td>\n",
       "      <td>6</td>\n",
       "      <td>0</td>\n",
       "      <td>1</td>\n",
       "      <td>0</td>\n",
       "      <td>sales</td>\n",
       "      <td>medium</td>\n",
       "    </tr>\n",
       "    <tr>\n",
       "      <th>2</th>\n",
       "      <td>0.11</td>\n",
       "      <td>0.88</td>\n",
       "      <td>7</td>\n",
       "      <td>272</td>\n",
       "      <td>4</td>\n",
       "      <td>0</td>\n",
       "      <td>1</td>\n",
       "      <td>0</td>\n",
       "      <td>sales</td>\n",
       "      <td>medium</td>\n",
       "    </tr>\n",
       "    <tr>\n",
       "      <th>3</th>\n",
       "      <td>0.72</td>\n",
       "      <td>0.87</td>\n",
       "      <td>5</td>\n",
       "      <td>223</td>\n",
       "      <td>5</td>\n",
       "      <td>0</td>\n",
       "      <td>1</td>\n",
       "      <td>0</td>\n",
       "      <td>sales</td>\n",
       "      <td>low</td>\n",
       "    </tr>\n",
       "    <tr>\n",
       "      <th>4</th>\n",
       "      <td>0.37</td>\n",
       "      <td>0.52</td>\n",
       "      <td>2</td>\n",
       "      <td>159</td>\n",
       "      <td>3</td>\n",
       "      <td>0</td>\n",
       "      <td>1</td>\n",
       "      <td>0</td>\n",
       "      <td>sales</td>\n",
       "      <td>low</td>\n",
       "    </tr>\n",
       "  </tbody>\n",
       "</table>\n",
       "</div>"
      ],
      "text/plain": [
       "   satisfaction_level  last_evaluation  number_project  average_montly_hours  \\\n",
       "0                0.38             0.53               2                   157   \n",
       "1                0.80             0.86               5                   262   \n",
       "2                0.11             0.88               7                   272   \n",
       "3                0.72             0.87               5                   223   \n",
       "4                0.37             0.52               2                   159   \n",
       "\n",
       "   time_spend_company  Work_accident  left  promotion_last_5years  sales  \\\n",
       "0                   3              0     1                      0  sales   \n",
       "1                   6              0     1                      0  sales   \n",
       "2                   4              0     1                      0  sales   \n",
       "3                   5              0     1                      0  sales   \n",
       "4                   3              0     1                      0  sales   \n",
       "\n",
       "   salary  \n",
       "0     low  \n",
       "1  medium  \n",
       "2  medium  \n",
       "3     low  \n",
       "4     low  "
      ]
     },
     "execution_count": 5,
     "metadata": {},
     "output_type": "execute_result"
    }
   ],
   "source": [
    "hr_data.head()"
   ]
  },
  {
   "cell_type": "code",
   "execution_count": 7,
   "metadata": {
    "ExecuteTime": {
     "end_time": "2020-12-21T08:36:06.618530Z",
     "start_time": "2020-12-21T08:36:06.610044Z"
    }
   },
   "outputs": [
    {
     "data": {
      "text/plain": [
       "satisfaction_level       0\n",
       "last_evaluation          0\n",
       "number_project           0\n",
       "average_montly_hours     0\n",
       "time_spend_company       0\n",
       "Work_accident            0\n",
       "left                     0\n",
       "promotion_last_5years    0\n",
       "sales                    0\n",
       "salary                   0\n",
       "dtype: int64"
      ]
     },
     "execution_count": 7,
     "metadata": {},
     "output_type": "execute_result"
    }
   ],
   "source": [
    "hr_data.isnull().sum()"
   ]
  },
  {
   "cell_type": "code",
   "execution_count": 8,
   "metadata": {
    "ExecuteTime": {
     "end_time": "2020-12-21T08:36:55.855832Z",
     "start_time": "2020-12-21T08:36:55.841361Z"
    }
   },
   "outputs": [
    {
     "data": {
      "text/plain": [
       "array(['sales', 'accounting', 'hr', 'technical', 'support', 'management',\n",
       "       'IT', 'product_mng', 'marketing', 'RandD'], dtype=object)"
      ]
     },
     "execution_count": 8,
     "metadata": {},
     "output_type": "execute_result"
    }
   ],
   "source": [
    "hr_data['sales'].unique() #Seems like a col is not named correctly. Sales column has sales object inside."
   ]
  },
  {
   "cell_type": "code",
   "execution_count": 9,
   "metadata": {
    "ExecuteTime": {
     "end_time": "2020-12-21T08:39:25.782808Z",
     "start_time": "2020-12-21T08:39:25.776826Z"
    }
   },
   "outputs": [],
   "source": [
    "hr_data.rename(columns={'sales':'dept'}, inplace=True)"
   ]
  },
  {
   "cell_type": "code",
   "execution_count": 10,
   "metadata": {
    "ExecuteTime": {
     "end_time": "2020-12-21T08:39:50.652860Z",
     "start_time": "2020-12-21T08:39:50.645911Z"
    }
   },
   "outputs": [
    {
     "data": {
      "text/plain": [
       "0       low\n",
       "1    medium\n",
       "2    medium\n",
       "3       low\n",
       "4       low\n",
       "Name: salary, dtype: object"
      ]
     },
     "execution_count": 10,
     "metadata": {},
     "output_type": "execute_result"
    }
   ],
   "source": [
    "hr_data['salary'].head()"
   ]
  },
  {
   "cell_type": "code",
   "execution_count": 11,
   "metadata": {
    "ExecuteTime": {
     "end_time": "2020-12-21T08:58:13.732056Z",
     "start_time": "2020-12-21T08:58:13.724077Z"
    }
   },
   "outputs": [],
   "source": [
    "X = hr_data.drop('left',axis =1)\n",
    "y = hr_data['left']"
   ]
  },
  {
   "cell_type": "code",
   "execution_count": 12,
   "metadata": {
    "ExecuteTime": {
     "end_time": "2020-12-21T08:58:53.439999Z",
     "start_time": "2020-12-21T08:58:53.423013Z"
    }
   },
   "outputs": [],
   "source": [
    "X = pd.get_dummies(X) # To encode all categoric values"
   ]
  },
  {
   "cell_type": "code",
   "execution_count": 13,
   "metadata": {
    "ExecuteTime": {
     "end_time": "2020-12-21T09:01:27.314987Z",
     "start_time": "2020-12-21T09:01:24.832376Z"
    }
   },
   "outputs": [],
   "source": [
    "from sklearn.model_selection import train_test_split\n",
    "X_train,X_test,y_train,y_test = train_test_split(X,y,test_size=0.20,random_state = 300)"
   ]
  },
  {
   "cell_type": "markdown",
   "metadata": {},
   "source": [
    "## Bagging Classifier"
   ]
  },
  {
   "cell_type": "code",
   "execution_count": 14,
   "metadata": {
    "ExecuteTime": {
     "end_time": "2020-12-21T09:12:14.149256Z",
     "start_time": "2020-12-21T09:12:14.146262Z"
    }
   },
   "outputs": [],
   "source": [
    "from sklearn.ensemble import BaggingClassifier\n",
    "from sklearn.tree import DecisionTreeClassifier"
   ]
  },
  {
   "cell_type": "code",
   "execution_count": 17,
   "metadata": {
    "ExecuteTime": {
     "end_time": "2020-12-21T09:20:05.951514Z",
     "start_time": "2020-12-21T09:20:05.948324Z"
    }
   },
   "outputs": [],
   "source": [
    "clf = BaggingClassifier(oob_score=True, n_jobs=-1,n_estimators=50,random_state=42,base_estimator=DecisionTreeClassifier())"
   ]
  },
  {
   "cell_type": "code",
   "execution_count": 18,
   "metadata": {
    "ExecuteTime": {
     "end_time": "2020-12-21T09:20:08.112363Z",
     "start_time": "2020-12-21T09:20:07.551886Z"
    }
   },
   "outputs": [
    {
     "data": {
      "text/plain": [
       "BaggingClassifier(base_estimator=DecisionTreeClassifier(), n_estimators=50,\n",
       "                  n_jobs=-1, oob_score=True, random_state=42)"
      ]
     },
     "execution_count": 18,
     "metadata": {},
     "output_type": "execute_result"
    }
   ],
   "source": [
    "clf.fit(X_train,y_train)"
   ]
  },
  {
   "cell_type": "code",
   "execution_count": 19,
   "metadata": {
    "ExecuteTime": {
     "end_time": "2020-12-21T09:22:21.988933Z",
     "start_time": "2020-12-21T09:22:21.983413Z"
    }
   },
   "outputs": [
    {
     "data": {
      "text/plain": [
       "0.9880823401950163"
      ]
     },
     "execution_count": 19,
     "metadata": {},
     "output_type": "execute_result"
    }
   ],
   "source": [
    "clf.oob_score_"
   ]
  },
  {
   "cell_type": "code",
   "execution_count": 21,
   "metadata": {
    "ExecuteTime": {
     "end_time": "2020-12-21T09:25:43.282358Z",
     "start_time": "2020-12-21T09:25:43.275376Z"
    }
   },
   "outputs": [
    {
     "data": {
      "text/plain": [
       "DecisionTreeClassifier(random_state=1952926171)"
      ]
     },
     "execution_count": 21,
     "metadata": {},
     "output_type": "execute_result"
    }
   ],
   "source": [
    "clf.estimators_[0]"
   ]
  },
  {
   "cell_type": "code",
   "execution_count": 22,
   "metadata": {
    "ExecuteTime": {
     "end_time": "2020-12-21T09:26:13.471082Z",
     "start_time": "2020-12-21T09:26:13.464071Z"
    }
   },
   "outputs": [
    {
     "data": {
      "text/plain": [
       "array([4.90253211e-01, 1.40048584e-01, 1.12577704e-01, 8.65403193e-02,\n",
       "       1.50844894e-01, 1.26095569e-03, 3.82264234e-05, 4.03962691e-04,\n",
       "       3.95710104e-04, 3.72123217e-04, 7.03806713e-04, 1.40140396e-03,\n",
       "       5.12505308e-04, 6.54936862e-04, 2.57257848e-03, 4.24342092e-04,\n",
       "       2.00270818e-03, 2.09354510e-03, 4.71923120e-03, 2.17925170e-03])"
      ]
     },
     "execution_count": 22,
     "metadata": {},
     "output_type": "execute_result"
    }
   ],
   "source": [
    "clf.estimators_[0].feature_importances_"
   ]
  },
  {
   "cell_type": "code",
   "execution_count": 25,
   "metadata": {
    "ExecuteTime": {
     "end_time": "2020-12-21T09:28:32.129829Z",
     "start_time": "2020-12-21T09:28:32.119858Z"
    }
   },
   "outputs": [],
   "source": [
    "# We can extract feature importance from each tree then take a mean for all trees\n",
    "\n",
    "imp = []\n",
    "for k in clf.estimators_:\n",
    "    imp.append(k.feature_importances_)\n",
    "imp = np.mean(imp,axis=0)"
   ]
  },
  {
   "cell_type": "code",
   "execution_count": 26,
   "metadata": {
    "ExecuteTime": {
     "end_time": "2020-12-21T09:29:40.226169Z",
     "start_time": "2020-12-21T09:29:40.221181Z"
    }
   },
   "outputs": [],
   "source": [
    "feature_importance = pd.Series(imp, index=X.columns.tolist())"
   ]
  },
  {
   "cell_type": "code",
   "execution_count": 27,
   "metadata": {
    "ExecuteTime": {
     "end_time": "2020-12-21T09:30:10.956354Z",
     "start_time": "2020-12-21T09:30:10.939257Z"
    }
   },
   "outputs": [
    {
     "data": {
      "text/plain": [
       "satisfaction_level       0.493734\n",
       "time_spend_company       0.147625\n",
       "last_evaluation          0.121364\n",
       "number_project           0.110561\n",
       "average_montly_hours     0.105279\n",
       "salary_low               0.003375\n",
       "dept_technical           0.003320\n",
       "dept_support             0.002348\n",
       "dept_sales               0.002329\n",
       "salary_medium            0.001815\n",
       "Work_accident            0.001640\n",
       "dept_IT                  0.001245\n",
       "salary_high              0.000963\n",
       "dept_accounting          0.000937\n",
       "dept_management          0.000861\n",
       "dept_hr                  0.000724\n",
       "dept_marketing           0.000718\n",
       "dept_RandD               0.000640\n",
       "dept_product_mng         0.000433\n",
       "promotion_last_5years    0.000090\n",
       "dtype: float64"
      ]
     },
     "execution_count": 27,
     "metadata": {},
     "output_type": "execute_result"
    }
   ],
   "source": [
    "feature_importance.sort_values(ascending = False)"
   ]
  },
  {
   "cell_type": "markdown",
   "metadata": {},
   "source": [
    "## Random Forest"
   ]
  },
  {
   "cell_type": "code",
   "execution_count": 29,
   "metadata": {
    "ExecuteTime": {
     "end_time": "2020-12-21T09:31:44.386969Z",
     "start_time": "2020-12-21T09:31:44.383973Z"
    }
   },
   "outputs": [],
   "source": [
    "from sklearn.ensemble import RandomForestClassifier"
   ]
  },
  {
   "cell_type": "code",
   "execution_count": 30,
   "metadata": {
    "ExecuteTime": {
     "end_time": "2020-12-21T09:32:42.957680Z",
     "start_time": "2020-12-21T09:32:42.952650Z"
    }
   },
   "outputs": [],
   "source": [
    "clf = RandomForestClassifier(oob_score=True, n_jobs=-1,n_estimators=80,random_state=42)"
   ]
  },
  {
   "cell_type": "code",
   "execution_count": 31,
   "metadata": {
    "ExecuteTime": {
     "end_time": "2020-12-21T09:32:53.015146Z",
     "start_time": "2020-12-21T09:32:52.725899Z"
    }
   },
   "outputs": [
    {
     "data": {
      "text/plain": [
       "RandomForestClassifier(n_estimators=80, n_jobs=-1, oob_score=True,\n",
       "                       random_state=42)"
      ]
     },
     "execution_count": 31,
     "metadata": {},
     "output_type": "execute_result"
    }
   ],
   "source": [
    "clf.fit(X_train,y_train)"
   ]
  },
  {
   "cell_type": "code",
   "execution_count": 32,
   "metadata": {
    "ExecuteTime": {
     "end_time": "2020-12-21T09:33:02.653298Z",
     "start_time": "2020-12-21T09:33:02.649342Z"
    }
   },
   "outputs": [
    {
     "data": {
      "text/plain": [
       "0.9907492291024252"
      ]
     },
     "execution_count": 32,
     "metadata": {},
     "output_type": "execute_result"
    }
   ],
   "source": [
    "clf.oob_score_"
   ]
  },
  {
   "cell_type": "code",
   "execution_count": 33,
   "metadata": {
    "ExecuteTime": {
     "end_time": "2020-12-21T09:34:09.658277Z",
     "start_time": "2020-12-21T09:34:09.639816Z"
    }
   },
   "outputs": [
    {
     "data": {
      "text/plain": [
       "array([0.33542319, 0.11837428, 0.17774087, 0.14730734, 0.17453905,\n",
       "       0.01096604, 0.00138677, 0.00164949, 0.00140653, 0.00150322,\n",
       "       0.00174279, 0.0014373 , 0.00126238, 0.00111918, 0.0035403 ,\n",
       "       0.00250614, 0.00358791, 0.00485044, 0.0066698 , 0.00298697])"
      ]
     },
     "execution_count": 33,
     "metadata": {},
     "output_type": "execute_result"
    }
   ],
   "source": [
    "clf.feature_importances_"
   ]
  },
  {
   "cell_type": "code",
   "execution_count": 34,
   "metadata": {
    "ExecuteTime": {
     "end_time": "2020-12-21T09:34:56.541126Z",
     "start_time": "2020-12-21T09:34:56.523161Z"
    }
   },
   "outputs": [],
   "source": [
    "importance_feature = pd.Series(clf.feature_importances_, index=X.columns.tolist())"
   ]
  },
  {
   "cell_type": "code",
   "execution_count": 35,
   "metadata": {
    "ExecuteTime": {
     "end_time": "2020-12-21T09:35:25.425032Z",
     "start_time": "2020-12-21T09:35:25.418064Z"
    }
   },
   "outputs": [
    {
     "data": {
      "text/plain": [
       "satisfaction_level       0.335423\n",
       "number_project           0.177741\n",
       "time_spend_company       0.174539\n",
       "average_montly_hours     0.147307\n",
       "last_evaluation          0.118374\n",
       "Work_accident            0.010966\n",
       "salary_low               0.006670\n",
       "salary_high              0.004850\n",
       "dept_technical           0.003588\n",
       "dept_sales               0.003540\n",
       "salary_medium            0.002987\n",
       "dept_support             0.002506\n",
       "dept_hr                  0.001743\n",
       "dept_IT                  0.001649\n",
       "dept_accounting          0.001503\n",
       "dept_management          0.001437\n",
       "dept_RandD               0.001407\n",
       "promotion_last_5years    0.001387\n",
       "dept_marketing           0.001262\n",
       "dept_product_mng         0.001119\n",
       "dtype: float64"
      ]
     },
     "execution_count": 35,
     "metadata": {},
     "output_type": "execute_result"
    }
   ],
   "source": [
    "importance_feature.sort_values(ascending = False)"
   ]
  },
  {
   "cell_type": "code",
   "execution_count": null,
   "metadata": {},
   "outputs": [],
   "source": []
  }
 ],
 "metadata": {
  "kernelspec": {
   "display_name": "Python 3",
   "language": "python",
   "name": "python3"
  },
  "language_info": {
   "codemirror_mode": {
    "name": "ipython",
    "version": 3
   },
   "file_extension": ".py",
   "mimetype": "text/x-python",
   "name": "python",
   "nbconvert_exporter": "python",
   "pygments_lexer": "ipython3",
   "version": "3.8.2"
  }
 },
 "nbformat": 4,
 "nbformat_minor": 4
}
