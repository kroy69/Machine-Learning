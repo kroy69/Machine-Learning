{
 "cells": [
  {
   "cell_type": "code",
   "execution_count": 1,
   "metadata": {
    "ExecuteTime": {
     "end_time": "2020-12-22T05:53:54.315466Z",
     "start_time": "2020-12-22T05:53:51.663854Z"
    }
   },
   "outputs": [],
   "source": [
    "import pandas as pd\n",
    "import numpy as np\n",
    "import matplotlib.pyplot as plt\n",
    "%matplotlib inline"
   ]
  },
  {
   "cell_type": "code",
   "execution_count": 4,
   "metadata": {
    "ExecuteTime": {
     "end_time": "2020-12-22T05:56:39.419899Z",
     "start_time": "2020-12-22T05:56:39.402465Z"
    }
   },
   "outputs": [],
   "source": [
    "football = pd.read_csv(\"song_football.csv\", encoding='latin1')"
   ]
  },
  {
   "cell_type": "code",
   "execution_count": 5,
   "metadata": {
    "ExecuteTime": {
     "end_time": "2020-12-22T06:01:30.882917Z",
     "start_time": "2020-12-22T06:01:30.858982Z"
    }
   },
   "outputs": [
    {
     "data": {
      "text/html": [
       "<div>\n",
       "<style scoped>\n",
       "    .dataframe tbody tr th:only-of-type {\n",
       "        vertical-align: middle;\n",
       "    }\n",
       "\n",
       "    .dataframe tbody tr th {\n",
       "        vertical-align: top;\n",
       "    }\n",
       "\n",
       "    .dataframe thead th {\n",
       "        text-align: right;\n",
       "    }\n",
       "</style>\n",
       "<table border=\"1\" class=\"dataframe\">\n",
       "  <thead>\n",
       "    <tr style=\"text-align: right;\">\n",
       "      <th></th>\n",
       "      <th>Player Id</th>\n",
       "      <th>Tackles</th>\n",
       "      <th>wontackles</th>\n",
       "      <th>duels</th>\n",
       "      <th>wonduels</th>\n",
       "      <th>passes</th>\n",
       "      <th>wonpasses</th>\n",
       "      <th>interception</th>\n",
       "      <th>First_Name</th>\n",
       "      <th>Last_Name</th>\n",
       "    </tr>\n",
       "  </thead>\n",
       "  <tbody>\n",
       "    <tr>\n",
       "      <th>0</th>\n",
       "      <td>3</td>\n",
       "      <td>28</td>\n",
       "      <td>0.642857</td>\n",
       "      <td>170</td>\n",
       "      <td>0.394118</td>\n",
       "      <td>1108</td>\n",
       "      <td>0.753610</td>\n",
       "      <td>30</td>\n",
       "      <td>Giggs</td>\n",
       "      <td>Ryan</td>\n",
       "    </tr>\n",
       "    <tr>\n",
       "      <th>1</th>\n",
       "      <td>363</td>\n",
       "      <td>39</td>\n",
       "      <td>0.641026</td>\n",
       "      <td>107</td>\n",
       "      <td>0.532710</td>\n",
       "      <td>1137</td>\n",
       "      <td>0.930519</td>\n",
       "      <td>24</td>\n",
       "      <td>Scholes</td>\n",
       "      <td>Paul</td>\n",
       "    </tr>\n",
       "    <tr>\n",
       "      <th>2</th>\n",
       "      <td>973</td>\n",
       "      <td>32</td>\n",
       "      <td>0.656250</td>\n",
       "      <td>104</td>\n",
       "      <td>0.625000</td>\n",
       "      <td>297</td>\n",
       "      <td>0.713805</td>\n",
       "      <td>23</td>\n",
       "      <td>Woodgate</td>\n",
       "      <td>Jonathan</td>\n",
       "    </tr>\n",
       "    <tr>\n",
       "      <th>3</th>\n",
       "      <td>1059</td>\n",
       "      <td>28</td>\n",
       "      <td>0.785714</td>\n",
       "      <td>135</td>\n",
       "      <td>0.577778</td>\n",
       "      <td>424</td>\n",
       "      <td>0.738208</td>\n",
       "      <td>32</td>\n",
       "      <td>Gabbidon</td>\n",
       "      <td>Daniel</td>\n",
       "    </tr>\n",
       "    <tr>\n",
       "      <th>4</th>\n",
       "      <td>1131</td>\n",
       "      <td>12</td>\n",
       "      <td>0.916667</td>\n",
       "      <td>58</td>\n",
       "      <td>0.620690</td>\n",
       "      <td>232</td>\n",
       "      <td>0.780172</td>\n",
       "      <td>14</td>\n",
       "      <td>Bramble</td>\n",
       "      <td>Titus</td>\n",
       "    </tr>\n",
       "  </tbody>\n",
       "</table>\n",
       "</div>"
      ],
      "text/plain": [
       "   Player Id  Tackles  wontackles  duels  wonduels  passes  wonpasses  \\\n",
       "0          3       28    0.642857    170  0.394118    1108   0.753610   \n",
       "1        363       39    0.641026    107  0.532710    1137   0.930519   \n",
       "2        973       32    0.656250    104  0.625000     297   0.713805   \n",
       "3       1059       28    0.785714    135  0.577778     424   0.738208   \n",
       "4       1131       12    0.916667     58  0.620690     232   0.780172   \n",
       "\n",
       "   interception First_Name Last_Name  \n",
       "0            30      Giggs      Ryan  \n",
       "1            24    Scholes      Paul  \n",
       "2            23   Woodgate  Jonathan  \n",
       "3            32   Gabbidon    Daniel  \n",
       "4            14    Bramble     Titus  "
      ]
     },
     "execution_count": 5,
     "metadata": {},
     "output_type": "execute_result"
    }
   ],
   "source": [
    "football.head()"
   ]
  },
  {
   "cell_type": "code",
   "execution_count": 7,
   "metadata": {
    "ExecuteTime": {
     "end_time": "2020-12-22T06:03:22.975115Z",
     "start_time": "2020-12-22T06:03:22.970129Z"
    }
   },
   "outputs": [
    {
     "data": {
      "text/plain": [
       "(480, 10)"
      ]
     },
     "execution_count": 7,
     "metadata": {},
     "output_type": "execute_result"
    }
   ],
   "source": [
    "football.shape"
   ]
  },
  {
   "cell_type": "code",
   "execution_count": 6,
   "metadata": {
    "ExecuteTime": {
     "end_time": "2020-12-22T06:02:59.533446Z",
     "start_time": "2020-12-22T06:02:59.521479Z"
    }
   },
   "outputs": [
    {
     "data": {
      "text/html": [
       "<div>\n",
       "<style scoped>\n",
       "    .dataframe tbody tr th:only-of-type {\n",
       "        vertical-align: middle;\n",
       "    }\n",
       "\n",
       "    .dataframe tbody tr th {\n",
       "        vertical-align: top;\n",
       "    }\n",
       "\n",
       "    .dataframe thead th {\n",
       "        text-align: right;\n",
       "    }\n",
       "</style>\n",
       "<table border=\"1\" class=\"dataframe\">\n",
       "  <thead>\n",
       "    <tr style=\"text-align: right;\">\n",
       "      <th></th>\n",
       "      <th>Player Id</th>\n",
       "      <th>Tackles</th>\n",
       "      <th>wontackles</th>\n",
       "      <th>duels</th>\n",
       "      <th>wonduels</th>\n",
       "      <th>passes</th>\n",
       "      <th>wonpasses</th>\n",
       "      <th>interception</th>\n",
       "      <th>First_Name</th>\n",
       "      <th>Last_Name</th>\n",
       "    </tr>\n",
       "  </thead>\n",
       "  <tbody>\n",
       "    <tr>\n",
       "      <th>263</th>\n",
       "      <td>21091</td>\n",
       "      <td>100</td>\n",
       "      <td>0.73</td>\n",
       "      <td>396</td>\n",
       "      <td>0.474747</td>\n",
       "      <td>2261</td>\n",
       "      <td>0.839894</td>\n",
       "      <td>66</td>\n",
       "      <td>Song</td>\n",
       "      <td>Alexandre</td>\n",
       "    </tr>\n",
       "  </tbody>\n",
       "</table>\n",
       "</div>"
      ],
      "text/plain": [
       "     Player Id  Tackles  wontackles  duels  wonduels  passes  wonpasses  \\\n",
       "263      21091      100        0.73    396  0.474747    2261   0.839894   \n",
       "\n",
       "     interception First_Name  Last_Name  \n",
       "263            66       Song  Alexandre  "
      ]
     },
     "execution_count": 6,
     "metadata": {},
     "output_type": "execute_result"
    }
   ],
   "source": [
    "football.loc[football['First_Name']=='Song'] # we are looking for his substitution in the team."
   ]
  },
  {
   "cell_type": "code",
   "execution_count": 8,
   "metadata": {
    "ExecuteTime": {
     "end_time": "2020-12-22T06:13:35.775773Z",
     "start_time": "2020-12-22T06:13:35.761068Z"
    }
   },
   "outputs": [],
   "source": [
    "# First Imperative Step - Removing unncessary cols. Keep only numeric cols\n",
    "\n",
    "football = football.drop(columns=['Player Id','First_Name','Last_Name'], axis=1)"
   ]
  },
  {
   "cell_type": "code",
   "execution_count": 9,
   "metadata": {
    "ExecuteTime": {
     "end_time": "2020-12-22T06:14:05.319231Z",
     "start_time": "2020-12-22T06:14:05.313247Z"
    }
   },
   "outputs": [
    {
     "data": {
      "text/plain": [
       "Tackles         0\n",
       "wontackles      0\n",
       "duels           0\n",
       "wonduels        0\n",
       "passes          0\n",
       "wonpasses       0\n",
       "interception    0\n",
       "dtype: int64"
      ]
     },
     "execution_count": 9,
     "metadata": {},
     "output_type": "execute_result"
    }
   ],
   "source": [
    "football.isnull().sum()"
   ]
  },
  {
   "cell_type": "code",
   "execution_count": 11,
   "metadata": {
    "ExecuteTime": {
     "end_time": "2020-12-22T06:20:26.216263Z",
     "start_time": "2020-12-22T06:20:26.210277Z"
    }
   },
   "outputs": [],
   "source": [
    "# Second Imperative Step - Scale all values\n",
    "\n",
    "import sklearn.preprocessing as preprocessing\n",
    "\n",
    "football_scale = preprocessing.scale(football, axis = 0)"
   ]
  },
  {
   "cell_type": "code",
   "execution_count": 13,
   "metadata": {
    "ExecuteTime": {
     "end_time": "2020-12-22T06:22:45.607881Z",
     "start_time": "2020-12-22T06:22:45.601896Z"
    }
   },
   "outputs": [
    {
     "data": {
      "text/plain": [
       "array([[-0.07161472, -0.55356335,  0.19231802, ...,  0.72211922,\n",
       "        -0.0331406 ,  0.20763391],\n",
       "       [ 0.36102342, -0.56411628, -0.36985665, ...,  0.7741784 ,\n",
       "         1.87028208, -0.05452552],\n",
       "       [ 0.08570824, -0.47639505, -0.39662688, ..., -0.73374278,\n",
       "        -0.46142054, -0.09821876],\n",
       "       ...,\n",
       "       [-0.81889878,  0.22383583, -1.07480585, ..., -1.09815706,\n",
       "        -3.10520237, -0.88469705],\n",
       "       [-1.01555248, -1.37669189, -1.253274  , ..., -1.21663658,\n",
       "         0.69654158, -1.10316324],\n",
       "       [-1.05488322, -0.41637526, -1.23542719, ..., -1.2417686 ,\n",
       "         1.08080388, -1.05947   ]])"
      ]
     },
     "execution_count": 13,
     "metadata": {},
     "output_type": "execute_result"
    }
   ],
   "source": [
    "football_scale  #Scaled value is always numpy array"
   ]
  },
  {
   "cell_type": "code",
   "execution_count": null,
   "metadata": {},
   "outputs": [],
   "source": []
  }
 ],
 "metadata": {
  "kernelspec": {
   "display_name": "Python 3",
   "language": "python",
   "name": "python3"
  },
  "language_info": {
   "codemirror_mode": {
    "name": "ipython",
    "version": 3
   },
   "file_extension": ".py",
   "mimetype": "text/x-python",
   "name": "python",
   "nbconvert_exporter": "python",
   "pygments_lexer": "ipython3",
   "version": "3.8.2"
  }
 },
 "nbformat": 4,
 "nbformat_minor": 4
}
