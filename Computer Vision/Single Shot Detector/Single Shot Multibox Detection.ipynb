{
 "cells": [
  {
   "cell_type": "code",
   "execution_count": 1,
   "metadata": {
    "ExecuteTime": {
     "end_time": "2022-01-05T04:42:59.779415Z",
     "start_time": "2022-01-05T04:42:58.490864Z"
    }
   },
   "outputs": [],
   "source": [
    "import cv2\n",
    "from matplotlib import pyplot as plt\n",
    "import numpy as np\n",
    "import imutils\n",
    "import easyocr\n",
    "#import pytesseract as tess\n",
    "import time #for FPS control\n",
    "from datetime import datetime\n",
    "import re"
   ]
  },
  {
   "cell_type": "code",
   "execution_count": 2,
   "metadata": {
    "ExecuteTime": {
     "end_time": "2022-01-05T04:43:06.518437Z",
     "start_time": "2022-01-05T04:42:59.780378Z"
    }
   },
   "outputs": [],
   "source": [
    "OCR = easyocr.Reader(['en','en'], gpu = True)"
   ]
  },
  {
   "cell_type": "code",
   "execution_count": 3,
   "metadata": {
    "ExecuteTime": {
     "end_time": "2022-01-05T04:43:06.547361Z",
     "start_time": "2022-01-05T04:43:06.531403Z"
    }
   },
   "outputs": [],
   "source": [
    "config_file = 'ssd_mobilenet_v3_large_coco_2020_01_14.pbtxt'\n",
    "frozen_model = 'frozen_inference_graph.pb'"
   ]
  },
  {
   "cell_type": "code",
   "execution_count": 4,
   "metadata": {
    "ExecuteTime": {
     "end_time": "2022-01-05T04:43:06.910419Z",
     "start_time": "2022-01-05T04:43:06.552348Z"
    }
   },
   "outputs": [],
   "source": [
    "model = cv2.dnn_DetectionModel(frozen_model,config_file)\n",
    "\n",
    "#cv2.dnn.readNetFromTensorflow"
   ]
  },
  {
   "cell_type": "code",
   "execution_count": 5,
   "metadata": {
    "ExecuteTime": {
     "end_time": "2022-01-05T04:43:06.940341Z",
     "start_time": "2022-01-05T04:43:06.912413Z"
    }
   },
   "outputs": [],
   "source": [
    "class_labels = []\n",
    "filename = 'Labels.txt'\n",
    "\n",
    "with open(filename, 'rt') as fpt:\n",
    "    class_labels = fpt.read().rstrip('\\n').split('\\n') #Create All labels in new line\n",
    "    #class_labels.append(fpt.read())"
   ]
  },
  {
   "cell_type": "code",
   "execution_count": 6,
   "metadata": {
    "ExecuteTime": {
     "end_time": "2022-01-05T04:43:06.956298Z",
     "start_time": "2022-01-05T04:43:06.942335Z"
    }
   },
   "outputs": [],
   "source": [
    "#class_labels[3]"
   ]
  },
  {
   "cell_type": "code",
   "execution_count": 8,
   "metadata": {
    "ExecuteTime": {
     "end_time": "2021-12-29T04:32:04.440040Z",
     "start_time": "2021-12-29T04:32:04.363369Z"
    }
   },
   "outputs": [],
   "source": [
    "#for i in (2,3,5,7):\n",
    "#    print(class_labels[i])"
   ]
  },
  {
   "cell_type": "code",
   "execution_count": 9,
   "metadata": {
    "ExecuteTime": {
     "end_time": "2021-12-29T04:32:04.455996Z",
     "start_time": "2021-12-29T04:32:04.443030Z"
    }
   },
   "outputs": [],
   "source": [
    "#DATASET_DIR = \"/Users/royku/Sem II Modules/Project Prep/RA/Living Lab Grant/Car Number Plates/SSD_Data\"\n",
    "\n",
    "#import os\n",
    "#li = os.listdir(DATASET_DIR)"
   ]
  },
  {
   "cell_type": "code",
   "execution_count": 10,
   "metadata": {
    "ExecuteTime": {
     "end_time": "2021-12-29T04:32:04.471953Z",
     "start_time": "2021-12-29T04:32:04.457990Z"
    }
   },
   "outputs": [],
   "source": [
    "#img = []\n",
    "\n",
    "#for k in range(0,len(li)):\n",
    "#    images = cv2.imread('/Users/royku/Sem II Modules/Project Prep/RA/Living Lab Grant/Car Number Plates/SSD_Data/' + li[k])\n",
    "#    img.append(images)    "
   ]
  },
  {
   "cell_type": "code",
   "execution_count": 11,
   "metadata": {
    "ExecuteTime": {
     "end_time": "2021-12-29T04:32:04.487910Z",
     "start_time": "2021-12-29T04:32:04.472950Z"
    }
   },
   "outputs": [],
   "source": [
    "#image = img[4]"
   ]
  },
  {
   "cell_type": "code",
   "execution_count": 12,
   "metadata": {
    "ExecuteTime": {
     "end_time": "2021-12-29T04:32:04.503868Z",
     "start_time": "2021-12-29T04:32:04.489905Z"
    }
   },
   "outputs": [],
   "source": [
    "#plt.imshow(image)"
   ]
  },
  {
   "cell_type": "code",
   "execution_count": 13,
   "metadata": {
    "ExecuteTime": {
     "end_time": "2021-12-29T04:32:04.519827Z",
     "start_time": "2021-12-29T04:32:04.504866Z"
    }
   },
   "outputs": [],
   "source": [
    "#converted = cv2.cvtColor(image, cv2.COLOR_BGR2GRAY)\n",
    "#plt.imshow(converted)"
   ]
  },
  {
   "cell_type": "markdown",
   "metadata": {},
   "source": [
    "### Model"
   ]
  },
  {
   "cell_type": "code",
   "execution_count": 7,
   "metadata": {
    "ExecuteTime": {
     "end_time": "2022-01-05T04:43:07.066583Z",
     "start_time": "2022-01-05T04:43:07.032097Z"
    }
   },
   "outputs": [
    {
     "data": {
      "text/plain": [
       "<dnn_Model 00000174FFBE1870>"
      ]
     },
     "execution_count": 7,
     "metadata": {},
     "output_type": "execute_result"
    }
   ],
   "source": [
    "model.setInputSize(540,540)\n",
    "model.setInputScale(1.0/127) #255/2---->127 which is gray scale\n",
    "model.setInputMean((127,127,127)) #mobileNet => [-1,1]\n",
    "model.setInputSwapRB(True)"
   ]
  },
  {
   "cell_type": "code",
   "execution_count": 8,
   "metadata": {
    "ExecuteTime": {
     "end_time": "2022-01-05T04:43:07.864862Z",
     "start_time": "2022-01-05T04:43:07.854889Z"
    }
   },
   "outputs": [],
   "source": [
    "# Regex Conditioning\n",
    "\n",
    "PalphaNum1 = re.compile(r'^[ABCDFJKMNPRTVW][^IOZ]{0,2}[0-9]{1,4}[^IOZ]{0,1}')               #General With Ended Suffix\n",
    "#PalphaNum2 = re.compile(r'^[ABCDFJKMNPRTVW][^IOZ]{0,2} [0-9]{1,4}')                           #General Without End Suffix\n",
    "PalphaNum3 = re.compile(r'^[Q][AKBCLMPRST][^QS]{0,2}[0-9]{1,4}[^QSIOZ]{0,1}')               #Sarawak with Ended Suffix\n",
    "#PalphaNum4 = re.compile(r'^[Q][AKBCLMPRST][^QS]{0,2} [0-9]{1,4}')                             #Sarawak without End Suffix\n",
    "PalphaNum5 = re.compile(r'^[S][ABDGKLSTU][AB]{0,2}[^IOZQS]{0,2}[0-9]{1,4}[^QSIOZ]{0,1}')    #Sabah with End Suffix\n",
    "#PalphaNum6 = re.compile(r'^[S][ABDGKLSTU][AB]{0,2}[^IOZQS]{0,2} [0-9]{1,4}')                  #Sabah without End Suffix\n",
    "PalphaNum7 = re.compile(r'^[H][B][0-9]{1,4}[S][A]')                                         #Shah Alam Taxi \n",
    "PalphaNum8 = re.compile(r'^[H][ABCDEJKLMNPQRSTW][A-Z][0-9]{1,4}')                            #Taxi General\n",
    "PalphaNum9 = re.compile(r'^[L][I][M][O][0-9]{1,4}[WB]{0,2}')                                #Airport LIMO\n",
    "PalphaNum10 = re.compile(r'^[Z][ADLUZ]{0,2}[0-9]{1,4}')                                      #Military Plates\n",
    "\n",
    "#Diplomatic Corps, Consular Corps, UN numberp plates & Commemorative Plates not included"
   ]
  },
  {
   "cell_type": "code",
   "execution_count": 9,
   "metadata": {
    "ExecuteTime": {
     "end_time": "2022-01-05T04:43:09.401419Z",
     "start_time": "2022-01-05T04:43:09.385408Z"
    }
   },
   "outputs": [],
   "source": [
    "# Removing Strings with Spcl Characters\n",
    "\n",
    "SCregex = re.compile('[a-z@_!#$%^&*.,()''<>?/\\|}{~:]')"
   ]
  },
  {
   "cell_type": "markdown",
   "metadata": {},
   "source": [
    "### Video Detection"
   ]
  },
  {
   "cell_type": "code",
   "execution_count": 10,
   "metadata": {
    "ExecuteTime": {
     "end_time": "2022-01-05T06:55:11.583223Z",
     "start_time": "2022-01-05T06:17:09.802749Z"
    }
   },
   "outputs": [
    {
     "ename": "KeyboardInterrupt",
     "evalue": "",
     "output_type": "error",
     "traceback": [
      "\u001b[1;31m---------------------------------------------------------------------------\u001b[0m",
      "\u001b[1;31mKeyboardInterrupt\u001b[0m                         Traceback (most recent call last)",
      "\u001b[1;32m<ipython-input-10-5eadbb380790>\u001b[0m in \u001b[0;36m<module>\u001b[1;34m\u001b[0m\n\u001b[0;32m     14\u001b[0m \u001b[1;32mwhile\u001b[0m \u001b[1;32mTrue\u001b[0m\u001b[1;33m:\u001b[0m\u001b[1;33m\u001b[0m\u001b[1;33m\u001b[0m\u001b[0m\n\u001b[0;32m     15\u001b[0m \u001b[1;33m\u001b[0m\u001b[0m\n\u001b[1;32m---> 16\u001b[1;33m     \u001b[0mret\u001b[0m\u001b[1;33m,\u001b[0m \u001b[0mframe\u001b[0m \u001b[1;33m=\u001b[0m \u001b[0mcap\u001b[0m\u001b[1;33m.\u001b[0m\u001b[0mread\u001b[0m\u001b[1;33m(\u001b[0m\u001b[1;33m)\u001b[0m\u001b[1;33m\u001b[0m\u001b[1;33m\u001b[0m\u001b[0m\n\u001b[0m\u001b[0;32m     17\u001b[0m     \u001b[0mnowTime\u001b[0m \u001b[1;33m=\u001b[0m \u001b[0mtime\u001b[0m\u001b[1;33m.\u001b[0m\u001b[0mtime\u001b[0m\u001b[1;33m(\u001b[0m\u001b[1;33m)\u001b[0m\u001b[1;33m\u001b[0m\u001b[1;33m\u001b[0m\u001b[0m\n\u001b[0;32m     18\u001b[0m     \u001b[1;32mif\u001b[0m \u001b[1;33m(\u001b[0m\u001b[0mint\u001b[0m\u001b[1;33m(\u001b[0m\u001b[0mnowTime\u001b[0m \u001b[1;33m-\u001b[0m \u001b[0mstartTime\u001b[0m\u001b[1;33m)\u001b[0m\u001b[1;33m)\u001b[0m \u001b[1;33m>\u001b[0m \u001b[0mfpsLimit\u001b[0m\u001b[1;33m:\u001b[0m\u001b[1;33m\u001b[0m\u001b[1;33m\u001b[0m\u001b[0m\n",
      "\u001b[1;31mKeyboardInterrupt\u001b[0m: "
     ]
    }
   ],
   "source": [
    "#cap = cv2.VideoCapture(\"Gate3.mp4\")\n",
    "cap = cv2.VideoCapture(1)\n",
    "\n",
    "#if not cap.isOpened():\n",
    "#    cap = cv2.VideoCapture(0)\n",
    "#if not cap.isOpened():\n",
    "#    raise IOError(\"Cannot Open Video\")\n",
    "    \n",
    "fpsLimit = 0.01 # throttle limit for FPS\n",
    "startTime = time.time()\n",
    "\n",
    "cdb = {}\n",
    "\n",
    "while True:\n",
    "    \n",
    "    ret, frame = cap.read()\n",
    "    nowTime = time.time()\n",
    "    if (int(nowTime - startTime)) > fpsLimit:\n",
    "        \n",
    "        try:\n",
    "\n",
    "            class_index, confidence, bbox = model.detect(frame, confThreshold = 0.5)\n",
    "\n",
    "            if (len(class_index)!=0):\n",
    "                for class_ind, conf, box in zip(class_index.flatten(), confidence.flatten(), bbox):\n",
    "                    #if (class_ind<=80):\n",
    "                    if (class_ind-1)==2 or (class_ind-1)==3 or (class_ind-1)==5 or (class_ind-1)==7:\n",
    "                        if conf >=0.5:\n",
    "\n",
    "                            cv2.imshow('frame Detection', frame)\n",
    "\n",
    "                            ## Conversion ##\n",
    "                            converted = cv2.cvtColor(frame, cv2.COLOR_BGR2GRAY)  #Conversion to gray scale\n",
    "                            filtered = cv2.bilateralFilter(converted, 11, 17, 17) # Reduce Noise / Filtering \n",
    "                            boundary = cv2.Canny(filtered,30,200) # Detect Edge #(apertureSize = 3, L2gradient = True)\n",
    "\n",
    "                            ## Finding Contours ##\n",
    "                            contour_point  = cv2.findContours(boundary.copy(), cv2.RETR_TREE, cv2.CHAIN_APPROX_SIMPLE)\n",
    "                            contour = imutils.grab_contours(contour_point)\n",
    "                            contour = sorted(contour, key=cv2.contourArea, reverse=True)[:20]\n",
    "\n",
    "                            ## Finding Edge Points ##\n",
    "                            edge_points = []  #None\n",
    "                            for con in contour:\n",
    "                                #peri = cv2.arcLength(con, True)\n",
    "                                approx = cv2.approxPolyDP(con, 10, True)\n",
    "                                if len(approx) == 4:\n",
    "                                    edge_points.append(approx)\n",
    "                                    \n",
    "                            ## Masking ##\n",
    "                            if edge_points is not None:\n",
    "\n",
    "                                for i in edge_points:\n",
    "\n",
    "                                    #mask = np.zeros(converted.shape, np.uint8)\n",
    "                                    #plate = cv2.drawContours(mask, [i], 0,255, -1)\n",
    "                                    #plate = cv2.bitwise_and(frame, frame, mask=mask)\n",
    "\n",
    "                                    (x,y) = np.where(mask==255)\n",
    "                                    (x1, y1) = (np.min(x), np.min(y))\n",
    "                                    (x2, y2) = (np.max(x), np.max(y))\n",
    "                                    plate= converted[x1:x2+1, y1:y2+1]\n",
    "\n",
    "                                    # Number Plate conversion to Text\n",
    "                                    output = OCR.readtext(plate)\n",
    "\n",
    "                                    ## Number Plate with Time ##\n",
    "                                    if len(output) != 0:\n",
    "\n",
    "                                        text = output[0][1].replace(' ','')\n",
    "                                        \n",
    "                                        if text not in cdb.keys():\n",
    "                                            if(SCregex.search(text) == None):\n",
    "                                                if PalphaNum1.search(text) is not None:\n",
    "                                                    now = str(datetime.now())\n",
    "                                                    cdb[text] = now\n",
    "                                                    cv2.imshow('Plate Detection', plate)\n",
    "                                                                                                       \n",
    "                                                elif PalphaNum3.search(text) is not None:\n",
    "                                                    now = str(datetime.now())\n",
    "                                                    cdb[text] = now\n",
    "                                                    cv2.imshow('Plate Detection', plate)\n",
    "                                                \n",
    "                                                elif PalphaNum5.search(text) is not None:\n",
    "                                                    now = str(datetime.now())\n",
    "                                                    cdb[text] = now\n",
    "                                                    cv2.imshow('Plate Detection', plate)\n",
    "                                                \n",
    "                                                elif PalphaNum7.search(text) is not None:\n",
    "                                                    now = str(datetime.now())\n",
    "                                                    cdb[text] = now\n",
    "                                                    cv2.imshow('Plate Detection', plate)\n",
    "                                                    \n",
    "                                                elif PalphaNum8.search(text) is not None:\n",
    "                                                    now = str(datetime.now())\n",
    "                                                    cdb[text] = now\n",
    "                                                    cv2.imshow('Plate Detection', plate)\n",
    "                                                    \n",
    "                                                elif PalphaNum9.search(text) is not None:\n",
    "                                                    now = str(datetime.now())\n",
    "                                                    cdb[text] = now\n",
    "                                                    cv2.imshow('Plate Detection', plate)\n",
    "                                                    \n",
    "                                                elif PalphaNum10.search(text) is not None:\n",
    "                                                    now = str(datetime.now())\n",
    "                                                    cdb[text] = now\n",
    "                                                    cv2.imshow('Plate Detection', plate)\n",
    "                                                else:\n",
    "                                                    pass\n",
    "\n",
    "            startTime = time.time()\n",
    "        except Exception as e:\n",
    "            pass\n",
    "    \n",
    "    if cv2.waitKey(10) & 0xFF == ord('q'):\n",
    "        break\n",
    "\n",
    "cap.release()\n",
    "cv2.destroyAllWindows()"
   ]
  },
  {
   "cell_type": "code",
   "execution_count": 18,
   "metadata": {
    "ExecuteTime": {
     "end_time": "2021-12-29T04:32:49.740851Z",
     "start_time": "2021-12-29T04:32:49.730878Z"
    }
   },
   "outputs": [
    {
     "data": {
      "text/plain": [
       "{}"
      ]
     },
     "execution_count": 18,
     "metadata": {},
     "output_type": "execute_result"
    }
   ],
   "source": [
    "cdb"
   ]
  },
  {
   "cell_type": "code",
   "execution_count": 32,
   "metadata": {
    "ExecuteTime": {
     "end_time": "2021-06-03T04:45:44.010822Z",
     "start_time": "2021-06-03T04:45:44.000132Z"
    }
   },
   "outputs": [
    {
     "data": {
      "text/plain": [
       "{'WC6414T': '2021-06-03 12:45:35.850182'}"
      ]
     },
     "execution_count": 32,
     "metadata": {},
     "output_type": "execute_result"
    }
   ],
   "source": [
    "cdb"
   ]
  },
  {
   "cell_type": "code",
   "execution_count": 70,
   "metadata": {
    "ExecuteTime": {
     "end_time": "2021-06-30T07:51:53.270144Z",
     "start_time": "2021-06-30T07:51:53.256182Z"
    }
   },
   "outputs": [
    {
     "data": {
      "text/plain": [
       "{'WC6414T': '2021-06-30 15:51:43.764115'}"
      ]
     },
     "execution_count": 70,
     "metadata": {},
     "output_type": "execute_result"
    }
   ],
   "source": [
    "cdb"
   ]
  },
  {
   "cell_type": "code",
   "execution_count": 93,
   "metadata": {
    "ExecuteTime": {
     "end_time": "2021-06-30T08:15:18.199388Z",
     "start_time": "2021-06-30T08:15:18.189872Z"
    }
   },
   "outputs": [
    {
     "data": {
      "text/plain": [
       "{}"
      ]
     },
     "execution_count": 93,
     "metadata": {},
     "output_type": "execute_result"
    }
   ],
   "source": [
    "cdb"
   ]
  },
  {
   "cell_type": "code",
   "execution_count": 17,
   "metadata": {
    "ExecuteTime": {
     "end_time": "2021-06-07T13:19:49.786341Z",
     "start_time": "2021-06-07T13:19:49.776850Z"
    }
   },
   "outputs": [
    {
     "data": {
      "text/plain": [
       "{'JHY6595': '2021-06-07 21:19:26.372497'}"
      ]
     },
     "execution_count": 17,
     "metadata": {},
     "output_type": "execute_result"
    }
   ],
   "source": [
    "cdb"
   ]
  },
  {
   "cell_type": "code",
   "execution_count": null,
   "metadata": {},
   "outputs": [],
   "source": []
  },
  {
   "cell_type": "code",
   "execution_count": 26,
   "metadata": {
    "ExecuteTime": {
     "end_time": "2021-06-07T13:32:25.365564Z",
     "start_time": "2021-06-07T13:32:25.352599Z"
    }
   },
   "outputs": [
    {
     "data": {
      "text/plain": [
       "{}"
      ]
     },
     "execution_count": 26,
     "metadata": {},
     "output_type": "execute_result"
    }
   ],
   "source": [
    "cdb"
   ]
  },
  {
   "cell_type": "code",
   "execution_count": null,
   "metadata": {},
   "outputs": [],
   "source": []
  },
  {
   "cell_type": "code",
   "execution_count": 50,
   "metadata": {
    "ExecuteTime": {
     "end_time": "2021-05-17T13:40:45.810727Z",
     "start_time": "2021-05-17T13:40:45.792259Z"
    }
   },
   "outputs": [
    {
     "data": {
      "text/plain": [
       "{'CENTRE': '2021-05-17 21:27:19.014385',\n",
       " 'Dentist': '2021-05-17 21:27:51.914797',\n",
       " 'Dentis(': '2021-05-17 21:28:04.972321',\n",
       " 'Denrist': '2021-05-17 21:28:57.166660',\n",
       " 'DENTIL': '2021-05-17 21:29:22.492160',\n",
       " 'Dentisu': '2021-05-17 21:29:33.073755',\n",
       " 'Dentis': '2021-05-17 21:29:40.409988',\n",
       " 'AM 2,00': '2021-05-17 21:31:34.025410',\n",
       " 'CASHLESS': '2021-05-17 21:31:35.481384',\n",
       " 'RM 3500': '2021-05-17 21:31:50.366793',\n",
       " 'cASHLESS': '2021-05-17 21:31:50.982754',\n",
       " 'RM 3.00': '2021-05-17 21:31:53.488217',\n",
       " 'RM 3,00': '2021-05-17 21:31:53.924052',\n",
       " 'CASHGSS': '2021-05-17 21:31:58.423198',\n",
       " 'casHLESS': '2021-05-17 21:32:16.996856',\n",
       " 'Subscribe': '2021-05-17 21:32:44.927173',\n",
       " 'CENIRE': '2021-05-17 21:34:38.322898',\n",
       " 'Car Park': '2021-05-17 21:35:01.061325',\n",
       " 'PlevePark': '2021-05-17 21:35:28.657261',\n",
       " 'Ploper': '2021-05-17 21:35:29.804179',\n",
       " 'P oper': '2021-05-17 21:35:36.697444',\n",
       " 'PlepePark': '2021-05-17 21:35:40.692660',\n",
       " 'P %per': '2021-05-17 21:35:58.611239',\n",
       " 'P Cper': '2021-05-17 21:36:01.372018',\n",
       " 'BPN 7963': '2021-05-17 21:36:52.464538',\n",
       " 'WC 6414 T': '2021-05-17 21:38:18.412859'}"
      ]
     },
     "execution_count": 50,
     "metadata": {},
     "output_type": "execute_result"
    }
   ],
   "source": [
    "cdb #KL Traffic Data"
   ]
  },
  {
   "cell_type": "code",
   "execution_count": 33,
   "metadata": {
    "ExecuteTime": {
     "end_time": "2021-05-19T03:58:03.937625Z",
     "start_time": "2021-05-19T03:58:03.926733Z"
    }
   },
   "outputs": [
    {
     "data": {
      "text/plain": [
       "{'AM 2,00': '2021-05-19 11:52:19.439425',\n",
       " 'AM 300': '2021-05-19 11:52:25.994304',\n",
       " 'RKY 200': '2021-05-19 11:52:26.719524',\n",
       " 'AM 3.00': '2021-05-19 11:52:28.342456',\n",
       " 'RM 2.00': '2021-05-19 11:52:29.132771',\n",
       " 'RM 3100': '2021-05-19 11:52:30.782968',\n",
       " 'RM 3.00': '2021-05-19 11:52:31.893188',\n",
       " 'RM 3,00': '2021-05-19 11:52:31.978953',\n",
       " 'AM 3,00': '2021-05-19 11:52:32.989403',\n",
       " 'AM 3500': '2021-05-19 11:52:40.366318',\n",
       " 'RM 3500': '2021-05-19 11:52:42.012811',\n",
       " 'BPN 7963': '2021-05-19 11:57:05.132877',\n",
       " 'BPN 7963]': '2021-05-19 11:57:05.593741',\n",
       " 'BPM 7963': '2021-05-19 11:57:09.809275',\n",
       " 'WC 6414 T': '2021-05-19 11:57:41.341060',\n",
       " 'MC 6414': '2021-05-19 11:57:42.476864',\n",
       " 'MC 6a14': '2021-05-19 11:57:43.785363',\n",
       " 'MC 641 T': '2021-05-19 11:57:48.180091',\n",
       " 'VC 6414 T': '2021-05-19 11:57:48.232143',\n",
       " 'WC 6414 t': '2021-05-19 11:57:57.892357'}"
      ]
     },
     "execution_count": 33,
     "metadata": {},
     "output_type": "execute_result"
    }
   ],
   "source": [
    "cdb #KL Traffic Data"
   ]
  },
  {
   "cell_type": "code",
   "execution_count": 20,
   "metadata": {
    "ExecuteTime": {
     "end_time": "2021-05-19T06:10:37.917446Z",
     "start_time": "2021-05-19T06:10:37.906931Z"
    }
   },
   "outputs": [
    {
     "data": {
      "text/plain": [
       "{'WD 6493 D': '2021-05-19 14:10:07.483817',\n",
       " 'WD 6493D': '2021-05-19 14:10:13.519866'}"
      ]
     },
     "execution_count": 20,
     "metadata": {},
     "output_type": "execute_result"
    }
   ],
   "source": [
    "cdb #Parking 2 Data"
   ]
  },
  {
   "cell_type": "code",
   "execution_count": 36,
   "metadata": {
    "ExecuteTime": {
     "end_time": "2021-05-20T06:42:43.695891Z",
     "start_time": "2021-05-20T06:42:43.681929Z"
    }
   },
   "outputs": [
    {
     "data": {
      "text/plain": [
       "{'BPN7963': '2021-05-20 14:42:03.061203',\n",
       " 'WC6414T': '2021-05-20 14:42:04.674441'}"
      ]
     },
     "execution_count": 36,
     "metadata": {},
     "output_type": "execute_result"
    }
   ],
   "source": [
    "cdb #KL Traffic Data"
   ]
  },
  {
   "cell_type": "code",
   "execution_count": 32,
   "metadata": {
    "ExecuteTime": {
     "end_time": "2021-05-19T11:49:01.363766Z",
     "start_time": "2021-05-19T11:49:01.345811Z"
    }
   },
   "outputs": [
    {
     "data": {
      "text/plain": [
       "{'VAD 6149': '2021-05-19 19:48:52.251308'}"
      ]
     },
     "execution_count": 32,
     "metadata": {},
     "output_type": "execute_result"
    }
   ],
   "source": [
    "cdb #TM 1 data"
   ]
  },
  {
   "cell_type": "code",
   "execution_count": 48,
   "metadata": {
    "ExecuteTime": {
     "end_time": "2021-05-19T13:13:35.947044Z",
     "start_time": "2021-05-19T13:13:35.932311Z"
    }
   },
   "outputs": [
    {
     "data": {
      "text/plain": [
       "{'WD6493D': '2021-05-19 21:12:40.239845'}"
      ]
     },
     "execution_count": 48,
     "metadata": {},
     "output_type": "execute_result"
    }
   ],
   "source": [
    "cdb #Parking 2 Data"
   ]
  },
  {
   "cell_type": "code",
   "execution_count": 38,
   "metadata": {
    "ExecuteTime": {
     "end_time": "2021-05-20T06:44:38.872302Z",
     "start_time": "2021-05-20T06:44:38.864337Z"
    }
   },
   "outputs": [
    {
     "data": {
      "text/plain": [
       "{'WD6493D': '2021-05-20 14:43:55.486755'}"
      ]
     },
     "execution_count": 38,
     "metadata": {},
     "output_type": "execute_result"
    }
   ],
   "source": [
    "cdb #Parking 2 Data"
   ]
  },
  {
   "cell_type": "code",
   "execution_count": 34,
   "metadata": {
    "ExecuteTime": {
     "end_time": "2021-05-20T06:41:09.521044Z",
     "start_time": "2021-05-20T06:41:09.505290Z"
    }
   },
   "outputs": [
    {
     "data": {
      "text/plain": [
       "{'KK5ZI': '2021-05-20 14:38:37.991245',\n",
       " 'BG65USJ': '2021-05-20 14:39:20.481528',\n",
       " 'BC65USJ': '2021-05-20 14:39:26.741203',\n",
       " 'AK64DHYI': '2021-05-20 14:39:28.806504',\n",
       " 'AK64DKV': '2021-05-20 14:39:31.784068',\n",
       " 'AK64DHV': '2021-05-20 14:39:36.069118',\n",
       " 'AK64DMV': '2021-05-20 14:39:40.817372'}"
      ]
     },
     "execution_count": 34,
     "metadata": {},
     "output_type": "execute_result"
    }
   ],
   "source": [
    "cdb #Traffic Video Capture 1"
   ]
  },
  {
   "cell_type": "code",
   "execution_count": 40,
   "metadata": {
    "ExecuteTime": {
     "end_time": "2021-05-20T06:46:31.354555Z",
     "start_time": "2021-05-20T06:46:31.344790Z"
    }
   },
   "outputs": [
    {
     "data": {
      "text/plain": [
       "{'VAD6149': '2021-05-20 14:46:00.927375'}"
      ]
     },
     "execution_count": 40,
     "metadata": {},
     "output_type": "execute_result"
    }
   ],
   "source": [
    "cdb #TM 1 data"
   ]
  },
  {
   "cell_type": "code",
   "execution_count": null,
   "metadata": {},
   "outputs": [],
   "source": []
  }
 ],
 "metadata": {
  "kernelspec": {
   "display_name": "Python 3",
   "language": "python",
   "name": "python3"
  },
  "language_info": {
   "codemirror_mode": {
    "name": "ipython",
    "version": 3
   },
   "file_extension": ".py",
   "mimetype": "text/x-python",
   "name": "python",
   "nbconvert_exporter": "python",
   "pygments_lexer": "ipython3",
   "version": "3.8.2"
  }
 },
 "nbformat": 4,
 "nbformat_minor": 4
}
