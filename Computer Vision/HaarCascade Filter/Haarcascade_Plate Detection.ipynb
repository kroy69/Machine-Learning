{
 "cells": [
  {
   "cell_type": "code",
   "execution_count": 1,
   "metadata": {
    "ExecuteTime": {
     "end_time": "2022-01-05T04:42:52.610461Z",
     "start_time": "2022-01-05T04:42:51.835895Z"
    }
   },
   "outputs": [],
   "source": [
    "import cv2\n",
    "import numpy as np\n",
    "from datetime import datetime\n",
    "import time #for FPS control\n",
    "import re"
   ]
  },
  {
   "cell_type": "code",
   "execution_count": 2,
   "metadata": {
    "ExecuteTime": {
     "end_time": "2022-01-05T04:42:52.626381Z",
     "start_time": "2022-01-05T04:42:52.611310Z"
    }
   },
   "outputs": [],
   "source": [
    "#import pytesseract as tess"
   ]
  },
  {
   "cell_type": "code",
   "execution_count": 3,
   "metadata": {
    "ExecuteTime": {
     "end_time": "2022-01-05T04:43:05.353552Z",
     "start_time": "2022-01-05T04:42:52.627380Z"
    }
   },
   "outputs": [],
   "source": [
    "import easyocr\n",
    "OCR = easyocr.Reader(['en','en'], gpu = True)"
   ]
  },
  {
   "cell_type": "code",
   "execution_count": 4,
   "metadata": {
    "ExecuteTime": {
     "end_time": "2022-01-05T04:43:05.399429Z",
     "start_time": "2022-01-05T04:43:05.366519Z"
    }
   },
   "outputs": [],
   "source": [
    "# Regex Conditioning\n",
    "\n",
    "PalphaNum1 = re.compile(r'^[ABCDFJKMNPRTVW][^IOZ]{0,2}[0-9]{1,4}[^IOZ]{0,1}')               #General With Ended Suffix\n",
    "PalphaNum3 = re.compile(r'^[Q][AKBCLMPRST][^QS]{0,2}[0-9]{1,4}[^QSIOZ]{0,1}')               #Sarawak with Ended Suffix\n",
    "PalphaNum5 = re.compile(r'^[S][ABDGKLSTU][AB]{0,2}[^IOZQS]{0,2}[0-9]{1,4}[^QSIOZ]{0,1}')    #Sabah with End Suffix\n",
    "PalphaNum7 = re.compile(r'^[H][B][0-9]{1,4}[S][A]')                                         #Shah Alam Taxi \n",
    "PalphaNum8 = re.compile(r'^[H][ABCDEJKLMNPQRSTW][A-Z][0-9]{1,4}')                            #Taxi General\n",
    "PalphaNum9 = re.compile(r'^[L][I][M][O][0-9]{1,4}[WB]{0,2}')                                #Airport LIMO\n",
    "PalphaNum10 = re.compile(r'^[Z][ADLUZ]{0,2}[0-9]{1,4}')                                      #Military Plates\n",
    "\n",
    "#Diplomatic Corps, Consular Corps, UN numberp plates & Commemorative Plates are not included"
   ]
  },
  {
   "cell_type": "code",
   "execution_count": 5,
   "metadata": {
    "ExecuteTime": {
     "end_time": "2022-01-05T04:43:05.414389Z",
     "start_time": "2022-01-05T04:43:05.402421Z"
    }
   },
   "outputs": [],
   "source": [
    "# Removing Strings with Spcl Characters\n",
    "\n",
    "SCregex = re.compile('[a-z@_!#$%^&*.,()''<>?/\\|}{~:]')"
   ]
  },
  {
   "cell_type": "code",
   "execution_count": 6,
   "metadata": {
    "ExecuteTime": {
     "end_time": "2022-01-05T04:43:05.444309Z",
     "start_time": "2022-01-05T04:43:05.418378Z"
    }
   },
   "outputs": [],
   "source": [
    "# Defining Scale and Resolution\n",
    "\n",
    "def make_1080p():\n",
    "    cap.set(3, 1920)\n",
    "    cap.set(4, 1080)\n",
    "\n",
    "def make_720p():\n",
    "    cap.set(3, 1280)\n",
    "    cap.set(4, 720)\n",
    "\n",
    "def make_480p():\n",
    "    cap.set(3, 640)\n",
    "    cap.set(4, 480)\n",
    "\n",
    "def change_res(width, height):\n",
    "    cap.set(3, width)\n",
    "    cap.set(4, height)"
   ]
  },
  {
   "cell_type": "code",
   "execution_count": 7,
   "metadata": {
    "ExecuteTime": {
     "end_time": "2022-01-05T04:43:05.459270Z",
     "start_time": "2022-01-05T04:43:05.448299Z"
    }
   },
   "outputs": [],
   "source": [
    "# Upscale / DownScale\n",
    "\n",
    "def rescale_frame(frame, percent=75):\n",
    "    width = int(frame.shape[1] * percent/ 100)\n",
    "    height = int(frame.shape[0] * percent/ 100)\n",
    "    dim = (width, height)\n",
    "    return cv2.resize(frame, dim, interpolation =cv2.INTER_AREA)"
   ]
  },
  {
   "cell_type": "markdown",
   "metadata": {},
   "source": [
    "### Number Plate Detection"
   ]
  },
  {
   "cell_type": "code",
   "execution_count": 10,
   "metadata": {
    "ExecuteTime": {
     "end_time": "2022-01-05T06:12:45.771564Z",
     "start_time": "2022-01-05T06:00:55.400623Z"
    },
    "scrolled": true
   },
   "outputs": [],
   "source": [
    "plateCascade = cv2.CascadeClassifier(\"haarcascade_number_plate_recognition.xml\")\n",
    "minArea = 500\n",
    "\n",
    "#cap = cv2.VideoCapture(1) # 0,1,2......for external camera sources\n",
    "#cap = cv2.VideoCapture(\"Gate3.mp4\")\n",
    "\n",
    "frameWidth = 640    #Frame Width\n",
    "franeHeight = 480   # Frame Height\n",
    "cap.set(3,frameWidth)\n",
    "cap.set(4,franeHeight)\n",
    "cap.set(5,100)\n",
    "#count = 0\n",
    "\n",
    "\n",
    "#cap.set(cv2.CAP_PROP_FPS, 60)\n",
    "#cap.set(cv2.CAP_PROP_AUTOFOCUS, 0) # turn the autofocus off \n",
    "#cap.set(cv2.CAP_PROP_FOCUS,10)\n",
    "#cap.set(cv2.CAP_PROP_EXPOSURE,25)\n",
    "\n",
    "if (cap.isOpened()== False):\n",
    "    print(\"Can not open camera\")\n",
    "\n",
    "cdb = {}\n",
    "\n",
    "#fpsLimit = 0 # throttle limit for FPS\n",
    "startTime = time.time()\n",
    "\n",
    "#make_1080p()\n",
    "#cap.set(cv2.CAP_PROP_FPS, 30)\n",
    "\n",
    "while True:\n",
    "#while(cap.isOpened()):\n",
    "    \n",
    "    success , img  = cap.read()\n",
    "    img = cv2.resize(img, None, None, fx=0.9, fy=0.9)\n",
    "    #nowTime = time.time()\n",
    "    #if (int(nowTime - startTime)) > fpsLimit:\n",
    "        \n",
    "    try:\n",
    "    #if success == True:\n",
    "\n",
    "        cv2.imshow('frame Detection', img)\n",
    "        \n",
    "        imgGray = cv2.cvtColor(img, cv2.COLOR_BGR2GRAY)\n",
    "        numberPlates = plateCascade.detectMultiScale(imgGray, 1.5, 3)\n",
    "\n",
    "        #############\n",
    "        if len(numberPlates) > 0:\n",
    "        #############\n",
    "            for (x, y, w, h) in numberPlates:\n",
    "                area = w*h\n",
    "                if area > minArea:\n",
    "                    cv2.rectangle(img, (x, y), (x + w, y + h), (255, 0, 0), 2)\n",
    "                    #cv2.putText(img,\"NumberPlate\",(x,y-5),cv2.FONT_HERSHEY_COMPLEX,1,(0,0,255),2)\n",
    "                    imgRoi = img[y:y+h,x:x+w]\n",
    "\n",
    "                    ###############\n",
    "                    output = OCR.readtext(imgRoi)\n",
    "                    if len(output) != 0:\n",
    "                        Text = output[0][1].replace(' ','')\n",
    "                        #Conf = output[0][2]\n",
    "                        #if Conf > 0.6:\n",
    "\n",
    "                        if Text not in cdb.keys():\n",
    "                            if(SCregex.search(Text) == None):\n",
    "                                if PalphaNum1.search(Text) is not None:\n",
    "                                    now = str(datetime.now())\n",
    "                                    cdb[Text] = now\n",
    "                                    cv2.imshow('Plate Detection', imgRoi)\n",
    "                                elif PalphaNum3.search(Text) is not None:\n",
    "                                    now = str(datetime.now())\n",
    "                                    cdb[Text] = now\n",
    "                                    cv2.imshow('Plate Detection', imgRoi)\n",
    "                                elif PalphaNum5.search(text) is not None:\n",
    "                                    now = str(datetime.now())\n",
    "                                    cdb[text] = now\n",
    "                                    cv2.imshow('Plate Detection', imgRoi)\n",
    "                                elif PalphaNum7.search(Text) is not None:\n",
    "                                    now = str(datetime.now())\n",
    "                                    cdb[Text] = now\n",
    "                                    cv2.imshow('Plate Detection', imgRoi)\n",
    "                                elif PalphaNum8.search(Text) is not None:\n",
    "                                    now = str(datetime.now())\n",
    "                                    cdb[Text] = now\n",
    "                                    cv2.imshow('Plate Detection', imgRoi)\n",
    "                                elif PalphaNum9.search(Text) is not None:\n",
    "                                    now = str(datetime.now())\n",
    "                                    cdb[Text] = now\n",
    "                                    cv2.imshow('Plate Detection', imgRoi)\n",
    "                                elif PalphaNum10.search(Text) is not None:\n",
    "                                    now = str(datetime.now())\n",
    "                                    cdb[Text] = now\n",
    "                                    cv2.imshow('Plate Detection', imgRoi)\n",
    "                                else:\n",
    "                                    pass\n",
    "\n",
    "\n",
    "                    ################\n",
    "\n",
    "                    #cv2.imshow(\"ROI\",imgRoi)\n",
    "                    cv2.putText(img,Text,(x,y-5),cv2.FONT_HERSHEY_COMPLEX,1,(0,0,255),2)\n",
    "\n",
    "\n",
    "            #cv2.imshow(\"Result\",imgRoi)\n",
    "\n",
    "        #if cv2.waitKey(1) & 0xFF ==ord('s'):\n",
    "        #    cv2.imwrite(r\"C:\\Users\\royku\\Sem II Modules\\Project Prep\\RA\\Living Lab Grant\\HaarcascadeOutImages\\Image\"+str(count)+\".jpg\",imgRoi)\n",
    "        #    cv2.rectangle(img,(0,200),(640,300),(0,255,0),cv2.FILLED)\n",
    "        #    cv2.putText(img,\"Scan Saved\",(15,265),cv2.FONT_HERSHEY_COMPLEX,2,(0,0,255),2)\n",
    "        #    cv2.imshow(\"Result\",img)\n",
    "        #    cv2.waitKey(500)\n",
    "        #    count+=1\n",
    "        startTime = time.time()\n",
    "    except Exception as e:\n",
    "        pass\n",
    "\n",
    "    if cv2.waitKey(1) & 0xFF == ord('q'):\n",
    "            break\n",
    "cap.release()\n",
    "cv2.destroyAllWindows()"
   ]
  },
  {
   "cell_type": "code",
   "execution_count": 9,
   "metadata": {
    "ExecuteTime": {
     "end_time": "2022-01-05T06:00:15.056133Z",
     "start_time": "2022-01-05T06:00:15.033232Z"
    }
   },
   "outputs": [
    {
     "data": {
      "text/plain": [
       "{'WRB2256': '2022-01-05 13:45:45.833813',\n",
       " 'VRB2256': '2022-01-05 13:47:37.561558',\n",
       " 'VDN5003': '2022-01-05 13:51:37.555560',\n",
       " 'WUQ6390': '2022-01-05 13:53:35.030435',\n",
       " 'VGC6842': '2022-01-05 13:53:41.824126',\n",
       " 'KGC6842': '2022-01-05 13:53:42.228832',\n",
       " 'ALY9972': '2022-01-05 13:55:16.517735',\n",
       " 'ALJ9973': '2022-01-05 13:55:16.689280',\n",
       " 'ALJ9972': '2022-01-05 13:55:17.205469',\n",
       " 'ALY9973': '2022-01-05 13:55:29.776357',\n",
       " 'VGD6121': '2022-01-05 13:56:01.527580'}"
      ]
     },
     "execution_count": 9,
     "metadata": {},
     "output_type": "execute_result"
    }
   ],
   "source": [
    "cdb"
   ]
  },
  {
   "cell_type": "code",
   "execution_count": null,
   "metadata": {},
   "outputs": [],
   "source": []
  },
  {
   "cell_type": "code",
   "execution_count": null,
   "metadata": {},
   "outputs": [],
   "source": []
  },
  {
   "cell_type": "code",
   "execution_count": 9,
   "metadata": {
    "ExecuteTime": {
     "end_time": "2021-12-28T03:37:00.950846Z",
     "start_time": "2021-12-28T03:37:00.938115Z"
    }
   },
   "outputs": [
    {
     "data": {
      "text/plain": [
       "{}"
      ]
     },
     "execution_count": 9,
     "metadata": {},
     "output_type": "execute_result"
    }
   ],
   "source": [
    "cdb"
   ]
  },
  {
   "cell_type": "markdown",
   "metadata": {},
   "source": [
    "### Car Number Plates with Time of Entry"
   ]
  },
  {
   "cell_type": "code",
   "execution_count": 21,
   "metadata": {
    "ExecuteTime": {
     "end_time": "2021-12-02T04:12:54.422268Z",
     "start_time": "2021-12-02T04:12:54.383291Z"
    }
   },
   "outputs": [
    {
     "data": {
      "text/plain": [
       "{'BNW6192': '2021-12-02 12:10:55.375420',\n",
       " 'VDY0918': '2021-12-02 12:11:11.584045',\n",
       " 'VDY8918': '2021-12-02 12:11:12.597841',\n",
       " 'VDY8910': '2021-12-02 12:11:14.565164',\n",
       " 'VAW7978': '2021-12-02 12:11:42.735113',\n",
       " 'JUL3344': '2021-12-02 12:12:05.036081',\n",
       " 'VGJ82': '2021-12-02 12:12:19.325916',\n",
       " 'AJP2551': '2021-12-02 12:12:26.686662',\n",
       " 'VAH5268': '2021-12-02 12:12:29.620808'}"
      ]
     },
     "execution_count": 21,
     "metadata": {},
     "output_type": "execute_result"
    }
   ],
   "source": [
    "cdb"
   ]
  },
  {
   "cell_type": "markdown",
   "metadata": {},
   "source": [
    "### Total Number of Cars"
   ]
  },
  {
   "cell_type": "code",
   "execution_count": 22,
   "metadata": {
    "ExecuteTime": {
     "end_time": "2021-12-02T04:13:01.692782Z",
     "start_time": "2021-12-02T04:13:01.674830Z"
    }
   },
   "outputs": [
    {
     "data": {
      "text/plain": [
       "9"
      ]
     },
     "execution_count": 22,
     "metadata": {},
     "output_type": "execute_result"
    }
   ],
   "source": [
    "len(cdb)"
   ]
  },
  {
   "cell_type": "code",
   "execution_count": null,
   "metadata": {},
   "outputs": [],
   "source": []
  },
  {
   "cell_type": "code",
   "execution_count": null,
   "metadata": {},
   "outputs": [],
   "source": []
  },
  {
   "cell_type": "code",
   "execution_count": 7,
   "metadata": {
    "ExecuteTime": {
     "end_time": "2021-11-30T05:26:21.631955Z",
     "start_time": "2021-11-30T05:26:21.615468Z"
    }
   },
   "outputs": [
    {
     "data": {
      "text/plain": [
       "{'BNW6192': '2021-11-30 13:07:10.353025',\n",
       " 'VDY8310': '2021-11-30 13:07:25.491483',\n",
       " 'VDY0310': '2021-11-30 13:07:25.522401',\n",
       " 'VDY898': '2021-11-30 13:07:25.872207',\n",
       " 'VDY8918': '2021-11-30 13:07:26.333678',\n",
       " 'VDY8910': '2021-11-30 13:07:26.610936',\n",
       " 'VDY0918': '2021-11-30 13:07:30.544293',\n",
       " 'VAW7978': '2021-11-30 13:08:01.581541',\n",
       " 'JUL3344': '2021-11-30 13:08:25.218096',\n",
       " 'VGJ82': '2021-11-30 13:08:41.605677',\n",
       " 'AJP2551': '2021-11-30 13:08:44.446922',\n",
       " 'VAH5265': '2021-11-30 13:08:51.672181',\n",
       " 'VAH5268': '2021-11-30 13:08:51.924507'}"
      ]
     },
     "execution_count": 7,
     "metadata": {},
     "output_type": "execute_result"
    }
   ],
   "source": [
    "cdb"
   ]
  },
  {
   "cell_type": "code",
   "execution_count": 22,
   "metadata": {
    "ExecuteTime": {
     "end_time": "2021-06-30T08:01:41.947983Z",
     "start_time": "2021-06-30T08:01:41.929903Z"
    }
   },
   "outputs": [
    {
     "data": {
      "text/plain": [
       "{}"
      ]
     },
     "execution_count": 22,
     "metadata": {},
     "output_type": "execute_result"
    }
   ],
   "source": [
    "cdb"
   ]
  },
  {
   "cell_type": "code",
   "execution_count": 29,
   "metadata": {
    "ExecuteTime": {
     "end_time": "2021-05-20T06:30:27.224994Z",
     "start_time": "2021-05-20T06:30:27.217469Z"
    }
   },
   "outputs": [
    {
     "data": {
      "text/plain": [
       "{'ND6493D': '2021-05-20 14:30:15.867461'}"
      ]
     },
     "execution_count": 29,
     "metadata": {},
     "output_type": "execute_result"
    }
   ],
   "source": [
    "cdb"
   ]
  },
  {
   "cell_type": "code",
   "execution_count": 28,
   "metadata": {
    "ExecuteTime": {
     "end_time": "2021-05-17T11:42:13.222380Z",
     "start_time": "2021-05-17T11:42:13.211408Z"
    }
   },
   "outputs": [
    {
     "data": {
      "text/plain": [
       "{'HD 6493D': '2021-05-17 19:41:19.725860',\n",
       " 'D 6493 D': '2021-05-17 19:41:20.254933'}"
      ]
     },
     "execution_count": 28,
     "metadata": {},
     "output_type": "execute_result"
    }
   ],
   "source": [
    "cdb"
   ]
  },
  {
   "cell_type": "code",
   "execution_count": 96,
   "metadata": {
    "ExecuteTime": {
     "end_time": "2021-05-06T07:32:44.962516Z",
     "start_time": "2021-05-06T07:32:44.921548Z"
    }
   },
   "outputs": [],
   "source": []
  },
  {
   "cell_type": "code",
   "execution_count": 97,
   "metadata": {
    "ExecuteTime": {
     "end_time": "2021-05-06T07:32:45.534174Z",
     "start_time": "2021-05-06T07:32:45.529160Z"
    }
   },
   "outputs": [
    {
     "data": {
      "text/plain": [
       "0"
      ]
     },
     "execution_count": 97,
     "metadata": {},
     "output_type": "execute_result"
    }
   ],
   "source": []
  },
  {
   "cell_type": "code",
   "execution_count": null,
   "metadata": {},
   "outputs": [],
   "source": []
  }
 ],
 "metadata": {
  "kernelspec": {
   "display_name": "Python 3",
   "language": "python",
   "name": "python3"
  },
  "language_info": {
   "codemirror_mode": {
    "name": "ipython",
    "version": 3
   },
   "file_extension": ".py",
   "mimetype": "text/x-python",
   "name": "python",
   "nbconvert_exporter": "python",
   "pygments_lexer": "ipython3",
   "version": "3.8.2"
  }
 },
 "nbformat": 4,
 "nbformat_minor": 4
}
